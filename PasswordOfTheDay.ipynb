{
 "cells": [
  {
   "cell_type": "code",
   "execution_count": 85,
   "metadata": {
    "scrolled": true
   },
   "outputs": [],
   "source": [
    "import time\n",
    "import json\n",
    "from webdriver_manager.chrome import ChromeDriverManager\n",
    "from selenium import webdriver\n",
    "from selenium.webdriver.common.by import By\n",
    "from selenium.webdriver.common.action_chains import ActionChains\n",
    "from selenium.webdriver.support import expected_conditions\n",
    "from selenium.webdriver.support.wait import WebDriverWait\n",
    "from selenium.webdriver.common.keys import Keys\n",
    "from selenium.webdriver.common.desired_capabilities import DesiredCapabilities\n",
    "\n",
    "def setup_method():\n",
    "    options = webdriver.ChromeOptions()\n",
    "    options.add_argument('no-sandbox')\n",
    "    options.add_argument('headless')\n",
    "    global driver\n",
    "    global vars\n",
    "    driver = webdriver.Chrome(options=options, executable_path=ChromeDriverManager().install())\n",
    "\n",
    "def login_by_id_pw_check(**kwargs):\n",
    "    url = kwargs.get('url')\n",
    "    usernameID = kwargs.get('usernameID','username')\n",
    "    username = kwargs.get('username')\n",
    "    passwordID = kwargs.get('passwordID','password')\n",
    "    password = kwargs.get('password')\n",
    "    loginButtonID = kwargs.get('loginButtonID','login')\n",
    "    driver.get(url)\n",
    "    WebDriverWait(driver, 15).until(expected_conditions.presence_of_element_located((By.ID, usernameID)))\n",
    "    driver.find_element(By.ID, usernameID).send_keys(username)\n",
    "    driver.find_element(By.ID, passwordID).send_keys(password)\n",
    "    driver.find_element(By.ID, loginButtonID).click()\n",
    "    try:\n",
    "        WebDriverWait(driver, 10).until(expected_conditions.presence_of_element_located((By.ID, passwordID)))\n",
    "    except:\n",
    "        pass\n",
    "    isPresent = len(driver.find_elements(By.ID, passwordID)) > 0\n",
    "    if isPresent:\n",
    "        print(\"Nope\")\n",
    "    else:\n",
    "        print(\"I think I'm in!!!! The password is for \" + url + \"!\")\n",
    "        return \"Correct\"\n",
    "\n",
    "def login_by_name_pw_check(**kwargs):\n",
    "    url = kwargs.get('url')\n",
    "    usernameName = kwargs.get('usernameName','username')\n",
    "    username = kwargs.get('username')\n",
    "    passwordName = kwargs.get('passwordName','password')\n",
    "    password = kwargs.get('password')\n",
    "    loginButtonID = kwargs.get('loginButtonID','login')\n",
    "    driver.get(url)\n",
    "    WebDriverWait(driver, 15).until(expected_conditions.presence_of_element_located((By.NAME, usernameName)))\n",
    "    driver.find_element(By.NAME, usernameName).send_keys(username)\n",
    "    driver.find_element(By.NAME, passwordName).send_keys(password)\n",
    "    driver.find_element(By.ID, loginButtonID).click()\n",
    "    try:\n",
    "        WebDriverWait(driver, 10).until(expected_conditions.presence_of_element_located((By.NAME, passwordName)))\n",
    "    except:\n",
    "        pass\n",
    "    isPresent = len(driver.find_elements(By.NAME, passwordName)) > 0\n",
    "    if isPresent:\n",
    "        print(\"Nope\")\n",
    "    else:\n",
    "        print(\"I think I'm in!!!! The password is for \" + url + \"!\")\n",
    "        return \"Correct\"    \n",
    "    \n",
    "def username_only_by_id_check(**kwargs):\n",
    "    url = kwargs.get('url')\n",
    "    usernameID = kwargs.get('usernameID','username')\n",
    "    username = kwargs.get('username')\n",
    "    loginButtonID = kwargs.get('loginButtonID','login')\n",
    "    driver.get(url)\n",
    "    WebDriverWait(driver, 15).until(expected_conditions.presence_of_element_located((By.ID, usernameID)))\n",
    "    driver.find_element(By.ID, usernameID).send_keys(username)\n",
    "    driver.find_element(By.ID, passwordID).send_keys(password)\n",
    "    driver.find_element(By.ID, loginButtonID).click()\n",
    "    try:\n",
    "        WebDriverWait(driver, 10).until(expected_conditions.presence_of_element_located((By.ID, passwordID)))\n",
    "    except:\n",
    "        pass\n",
    "    isPresent = len(driver.find_elements(By.ID, passwordID)) > 0\n",
    "    if isPresent:\n",
    "        print(\"Nope\")\n",
    "    else:\n",
    "        print(\"I think I'm in!!!! The password is for \" + url + \"!\")\n",
    "        return \"Correct\"\n",
    "\n",
    "def username_only_by_name_err_check(**kwargs):\n",
    "    url = kwargs.get('url')\n",
    "    usernameName = kwargs.get('usernameName','username')\n",
    "    username = kwargs.get('username')\n",
    "    usernameError = kwargs.get('usernameError')\n",
    "    loginButtonID = kwargs.get('loginButtonID','login')\n",
    "    driver.get(url)\n",
    "    WebDriverWait(driver, 15).until(expected_conditions.presence_of_element_located((By.NAME, usernameName)))\n",
    "    driver.find_element(By.NAME, usernameName).send_keys(username)\n",
    "    driver.find_element(By.ID, loginButtonID).click()\n",
    "    try:\n",
    "        WebDriverWait(driver, 5).until(expected_conditions.presence_of_element_located((By.ID, usernameError)))\n",
    "    except:\n",
    "        pass\n",
    "    isPresent = len(driver.find_elements(By.ID, usernameError)) > 0\n",
    "    if isPresent:\n",
    "        print(\"Nope\")\n",
    "    else:\n",
    "        print(\"I think I'm in!!!! The password is for \" + url + \"!\")\n",
    "        return \"Correct\"\n",
    "\n",
    "def teardown_method():\n",
    "    driver.quit()\n"
   ]
  },
  {
   "cell_type": "code",
   "execution_count": 97,
   "metadata": {},
   "outputs": [
    {
     "name": "stdout",
     "output_type": "stream",
     "text": [
      "username: tesings@fdsjaic.com\n",
      "password: dsafdsa\n"
     ]
    }
   ],
   "source": [
    "username = input(\"username: \")\n",
    "password = input(\"password: \")"
   ]
  },
  {
   "cell_type": "code",
   "execution_count": 98,
   "metadata": {},
   "outputs": [
    {
     "name": "stdout",
     "output_type": "stream",
     "text": [
      "\n",
      "Looking for [chromedriver 80.0.3987.106 linux64] driver in cache \n",
      "File found in cache by path [/home/jovyan/.wdm/drivers/chromedriver/80.0.3987.106/linux64/chromedriver]\n"
     ]
    }
   ],
   "source": [
    "setup_method()\n"
   ]
  },
  {
   "cell_type": "code",
   "execution_count": 101,
   "metadata": {},
   "outputs": [
    {
     "ename": "TimeoutException",
     "evalue": "Message: \n",
     "output_type": "error",
     "traceback": [
      "\u001b[0;31m---------------------------------------------------------------------------\u001b[0m",
      "\u001b[0;31mTimeoutException\u001b[0m                          Traceback (most recent call last)",
      "\u001b[0;32m<ipython-input-101-660f795bcf5a>\u001b[0m in \u001b[0;36m<module>\u001b[0;34m\u001b[0m\n\u001b[1;32m     14\u001b[0m }\n\u001b[1;32m     15\u001b[0m \u001b[0;34m\u001b[0m\u001b[0m\n\u001b[0;32m---> 16\u001b[0;31m \u001b[0mlogin_by_id_pw_check\u001b[0m\u001b[0;34m(\u001b[0m\u001b[0;34m**\u001b[0m\u001b[0mkwargs\u001b[0m\u001b[0;34m)\u001b[0m\u001b[0;34m\u001b[0m\u001b[0;34m\u001b[0m\u001b[0m\n\u001b[0m",
      "\u001b[0;32m<ipython-input-85-5d504cfda775>\u001b[0m in \u001b[0;36mlogin_by_id_pw_check\u001b[0;34m(**kwargs)\u001b[0m\n\u001b[1;32m     26\u001b[0m     \u001b[0mloginButtonID\u001b[0m \u001b[0;34m=\u001b[0m \u001b[0mkwargs\u001b[0m\u001b[0;34m.\u001b[0m\u001b[0mget\u001b[0m\u001b[0;34m(\u001b[0m\u001b[0;34m'loginButtonID'\u001b[0m\u001b[0;34m,\u001b[0m\u001b[0;34m'login'\u001b[0m\u001b[0;34m)\u001b[0m\u001b[0;34m\u001b[0m\u001b[0;34m\u001b[0m\u001b[0m\n\u001b[1;32m     27\u001b[0m     \u001b[0mdriver\u001b[0m\u001b[0;34m.\u001b[0m\u001b[0mget\u001b[0m\u001b[0;34m(\u001b[0m\u001b[0murl\u001b[0m\u001b[0;34m)\u001b[0m\u001b[0;34m\u001b[0m\u001b[0;34m\u001b[0m\u001b[0m\n\u001b[0;32m---> 28\u001b[0;31m     \u001b[0mWebDriverWait\u001b[0m\u001b[0;34m(\u001b[0m\u001b[0mdriver\u001b[0m\u001b[0;34m,\u001b[0m \u001b[0;36m15\u001b[0m\u001b[0;34m)\u001b[0m\u001b[0;34m.\u001b[0m\u001b[0muntil\u001b[0m\u001b[0;34m(\u001b[0m\u001b[0mexpected_conditions\u001b[0m\u001b[0;34m.\u001b[0m\u001b[0mpresence_of_element_located\u001b[0m\u001b[0;34m(\u001b[0m\u001b[0;34m(\u001b[0m\u001b[0mBy\u001b[0m\u001b[0;34m.\u001b[0m\u001b[0mID\u001b[0m\u001b[0;34m,\u001b[0m \u001b[0musernameID\u001b[0m\u001b[0;34m)\u001b[0m\u001b[0;34m)\u001b[0m\u001b[0;34m)\u001b[0m\u001b[0;34m\u001b[0m\u001b[0;34m\u001b[0m\u001b[0m\n\u001b[0m\u001b[1;32m     29\u001b[0m     \u001b[0mdriver\u001b[0m\u001b[0;34m.\u001b[0m\u001b[0mfind_element\u001b[0m\u001b[0;34m(\u001b[0m\u001b[0mBy\u001b[0m\u001b[0;34m.\u001b[0m\u001b[0mID\u001b[0m\u001b[0;34m,\u001b[0m \u001b[0musernameID\u001b[0m\u001b[0;34m)\u001b[0m\u001b[0;34m.\u001b[0m\u001b[0msend_keys\u001b[0m\u001b[0;34m(\u001b[0m\u001b[0musername\u001b[0m\u001b[0;34m)\u001b[0m\u001b[0;34m\u001b[0m\u001b[0;34m\u001b[0m\u001b[0m\n\u001b[1;32m     30\u001b[0m     \u001b[0mdriver\u001b[0m\u001b[0;34m.\u001b[0m\u001b[0mfind_element\u001b[0m\u001b[0;34m(\u001b[0m\u001b[0mBy\u001b[0m\u001b[0;34m.\u001b[0m\u001b[0mID\u001b[0m\u001b[0;34m,\u001b[0m \u001b[0mpasswordID\u001b[0m\u001b[0;34m)\u001b[0m\u001b[0;34m.\u001b[0m\u001b[0msend_keys\u001b[0m\u001b[0;34m(\u001b[0m\u001b[0mpassword\u001b[0m\u001b[0;34m)\u001b[0m\u001b[0;34m\u001b[0m\u001b[0;34m\u001b[0m\u001b[0m\n",
      "\u001b[0;32m/opt/conda/lib/python3.6/site-packages/selenium/webdriver/support/wait.py\u001b[0m in \u001b[0;36muntil\u001b[0;34m(self, method, message)\u001b[0m\n\u001b[1;32m     78\u001b[0m             \u001b[0;32mif\u001b[0m \u001b[0mtime\u001b[0m\u001b[0;34m.\u001b[0m\u001b[0mtime\u001b[0m\u001b[0;34m(\u001b[0m\u001b[0;34m)\u001b[0m \u001b[0;34m>\u001b[0m \u001b[0mend_time\u001b[0m\u001b[0;34m:\u001b[0m\u001b[0;34m\u001b[0m\u001b[0;34m\u001b[0m\u001b[0m\n\u001b[1;32m     79\u001b[0m                 \u001b[0;32mbreak\u001b[0m\u001b[0;34m\u001b[0m\u001b[0;34m\u001b[0m\u001b[0m\n\u001b[0;32m---> 80\u001b[0;31m         \u001b[0;32mraise\u001b[0m \u001b[0mTimeoutException\u001b[0m\u001b[0;34m(\u001b[0m\u001b[0mmessage\u001b[0m\u001b[0;34m,\u001b[0m \u001b[0mscreen\u001b[0m\u001b[0;34m,\u001b[0m \u001b[0mstacktrace\u001b[0m\u001b[0;34m)\u001b[0m\u001b[0;34m\u001b[0m\u001b[0;34m\u001b[0m\u001b[0m\n\u001b[0m\u001b[1;32m     81\u001b[0m \u001b[0;34m\u001b[0m\u001b[0m\n\u001b[1;32m     82\u001b[0m     \u001b[0;32mdef\u001b[0m \u001b[0muntil_not\u001b[0m\u001b[0;34m(\u001b[0m\u001b[0mself\u001b[0m\u001b[0;34m,\u001b[0m \u001b[0mmethod\u001b[0m\u001b[0;34m,\u001b[0m \u001b[0mmessage\u001b[0m\u001b[0;34m=\u001b[0m\u001b[0;34m''\u001b[0m\u001b[0;34m)\u001b[0m\u001b[0;34m:\u001b[0m\u001b[0;34m\u001b[0m\u001b[0;34m\u001b[0m\u001b[0m\n",
      "\u001b[0;31mTimeoutException\u001b[0m: Message: \n"
     ]
    }
   ],
   "source": [
    "#\n",
    "#\n",
    "#### Altice One Login Page ####\n",
    "#\n",
    "#\n",
    "\n",
    "kwargs = {\n",
    "    \"url\": \"https://myaltice.alticeusa.com/login/UALogin.aspx?ReturnURL=/\",\n",
    "    \"usernameID\": \"UsernameTB\",\n",
    "    \"username\": username,\n",
    "    \"passwordID\": \"PasswordTB\",\n",
    "    \"password\": password,\n",
    "    \"loginButtonID\": \"LoginButton\"  \n",
    "}\n",
    "\n",
    "login_by_id_pw_check(**kwargs)  "
   ]
  },
  {
   "cell_type": "code",
   "execution_count": 99,
   "metadata": {},
   "outputs": [
    {
     "name": "stdout",
     "output_type": "stream",
     "text": [
      "Nope\n"
     ]
    }
   ],
   "source": [
    "#\n",
    "#\n",
    "#### AT&T TV Login Page ####\n",
    "#\n",
    "#\n",
    "\n",
    "kwargs = {\n",
    "    \"url\": \"https://cprodmasx.att.com/commonLogin/igate_wam/controller.do?TAM_OP=login&USERNAME=unauthenticated&ERROR_CODE=0x00000000&ERROR_TEXT=HPDBA0521I%20%20%20Successful%20completion&METHOD=GET&URL=%2Fpkmsvouchfor%3FATT%26https%3A%2F%2Fcprodx.att.com%2FTokenService%2FnxsATS%2FWATokenService%3FisPassive%3Dfalse%26lang%3Den%26appID%3Dm14961%26returnURL%3Dhttps%253A%252F%252Fapi.cld.dtvce.com%252Faccount%252Faeg%252Fums%252Ftglogin%253FnextUrl%253Dhttps%25253A%25252F%25252Fwww.atttvnow.com%25252Faccounts%25252Fsign-in&REFERER=https%3A%2F%2Fwww.atttvnow.com%2Faccounts%2Fsign-in&HOSTNAME=cprodmasx.att.com&AUTHNLEVEL=&FAILREASON=&OLDSESSION=\",\n",
    "    \"usernameID\": \"userName\",\n",
    "    \"username\": username,\n",
    "    \"passwordID\": \"password\",\n",
    "    \"password\": password,\n",
    "    \"loginButtonID\": \"loginButton-lgwgLoginButton\"  \n",
    "}\n",
    "\n",
    "login_by_id_pw_check(**kwargs) "
   ]
  },
  {
   "cell_type": "code",
   "execution_count": 100,
   "metadata": {},
   "outputs": [
    {
     "name": "stdout",
     "output_type": "stream",
     "text": [
      "Nope\n"
     ]
    }
   ],
   "source": [
    "#\n",
    "#\n",
    "#### Microsoft Login Page ####\n",
    "#\n",
    "#\n",
    "\n",
    "kwargs = {\n",
    "    \"url\": \"https://login.live.com/\",\n",
    "    \"usernameName\": \"loginfmt\",\n",
    "    \"username\": username,\n",
    "    \"usernameError\": \"usernameError\",\n",
    "    \"loginButtonID\": \"idSIButton9\"  \n",
    "}\n",
    "\n",
    "username_only_by_name_err_check(**kwargs) "
   ]
  },
  {
   "cell_type": "code",
   "execution_count": 86,
   "metadata": {},
   "outputs": [],
   "source": [
    "teardown_method()\n"
   ]
  }
 ],
 "metadata": {
  "kernelspec": {
   "display_name": "Python 3",
   "language": "python",
   "name": "python3"
  },
  "language_info": {
   "codemirror_mode": {
    "name": "ipython",
    "version": 3
   },
   "file_extension": ".py",
   "mimetype": "text/x-python",
   "name": "python",
   "nbconvert_exporter": "python",
   "pygments_lexer": "ipython3",
   "version": "3.6.7"
  }
 },
 "nbformat": 4,
 "nbformat_minor": 2
}
